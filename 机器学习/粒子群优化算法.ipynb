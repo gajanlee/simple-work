{
 "cells": [
  {
   "cell_type": "markdown",
   "metadata": {},
   "source": [
    "# 粒子群算法"
   ]
  },
  {
   "cell_type": "markdown",
   "metadata": {},
   "source": [
    "## 定义函数"
   ]
  },
  {
   "cell_type": "code",
   "execution_count": 70,
   "metadata": {},
   "outputs": [],
   "source": [
    "f = lambda x: x**3 - 5*x**2 - 2*x + 3\n",
    "f2 = lambda x: -f(x)"
   ]
  },
  {
   "cell_type": "code",
   "execution_count": 71,
   "metadata": {
    "scrolled": true
   },
   "outputs": [
    {
     "data": {
      "image/png": "[encoded data removed]",
      "text/plain": [
       "<Figure size 432x288 with 1 Axes>"
      ]
     },
     "metadata": {
      "needs_background": "light"
     },
     "output_type": "display_data"
    }
   ],
   "source": [
    "import numpy as np\n",
    "import matplotlib.pyplot as plt\n",
    "x = np.linspace(-2, 5, 100)\n",
    "plt.plot(x, f(x));"
   ]
  },
  {
   "cell_type": "code",
   "execution_count": 86,
   "metadata": {},
   "outputs": [],
   "source": [
    "from numpy.random import rand\n",
    "class Node:\n",
    "    def __init__(self, func):\n",
    "        self._x = rand() * 7 - 2\n",
    "        self.v = rand() * 0.03\n",
    "        self.y = func(x)\n",
    "        self.pbest = 0\n",
    "        self.f = func\n",
    "    \n",
    "    @property\n",
    "    def x(self):\n",
    "        return self._x\n",
    "    @x.setter\n",
    "    def x(self, value):\n",
    "        self._x = value\n",
    "        self._x = max(min(self._x, 5), -2)\n",
    "        self.y = self.f(self._x)\n",
    "        self.pbest = max(self.pbest, self.y)\n",
    "        \n",
    "    def __repr__(self):\n",
    "        return \"Node(x=%s, y=%s, v=%s, pbset=%s)\" % (self.x, self.y, self.v, self.pbest)\n",
    "    \n",
    "\n",
    "# 超参数\n",
    "N, ITER = 2, 300   # 粒子数\n",
    "c1, c2 = 2, 2\n",
    "vmax = 0.1  # 设置最大速度"
   ]
  },
  {
   "cell_type": "markdown",
   "metadata": {},
   "source": [
    "# 求最大值\n",
    "* 使用f = lambda x: x**3 - 5*x**2 - 2*x + 3"
   ]
  },
  {
   "cell_type": "code",
   "execution_count": 92,
   "metadata": {},
   "outputs": [],
   "source": [
    "nodes = [Node(f) for _ in range(N)]\n",
    "gbest = -1\n",
    "for _ in range(ITER):\n",
    "    w = 0.9\n",
    "    for node in nodes:\n",
    "        node.v = w*node.v + c1*rand()*(node.pbest-node.x) + c2*rand()*(gbest-node.x)\n",
    "        if node.v > vmax: node.v = vmax\n",
    "        node.x = node.x + node.v\n",
    "        \n",
    "        gbest = max(gbest, node.y)\n",
    "        w = w / 1.5   # 权重衰减"
   ]
  },
  {
   "cell_type": "markdown",
   "metadata": {},
   "source": [
    "最大值为3.192644060084439"
   ]
  },
  {
   "cell_type": "code",
   "execution_count": 93,
   "metadata": {
    "scrolled": true
   },
   "outputs": [
    {
     "data": {
      "text/plain": [
       "3.192644060084439"
      ]
     },
     "execution_count": 93,
     "metadata": {},
     "output_type": "execute_result"
    }
   ],
   "source": [
    "gbest"
   ]
  },
  {
   "cell_type": "code",
   "execution_count": 99,
   "metadata": {},
   "outputs": [
    {
     "data": {
      "text/plain": [
       "[Node(x=5, y=7, v=0.1, pbset=22.37661105151893),\n",
       " Node(x=5, y=7, v=0.1, pbset=22.37593866799782)]"
      ]
     },
     "execution_count": 99,
     "metadata": {},
     "output_type": "execute_result"
    }
   ],
   "source": [
    "nodes"
   ]
  },
  {
   "cell_type": "markdown",
   "metadata": {},
   "source": [
    "# 求最小值\n",
    "* 使用f2 = lambda x: -f(x)，得到的gbest也取负"
   ]
  },
  {
   "cell_type": "code",
   "execution_count": 94,
   "metadata": {},
   "outputs": [],
   "source": [
    "nodes = [Node(f2) for _ in range(N)]\n",
    "gbest = -1\n",
    "for _ in range(ITER):\n",
    "    w = 0.9\n",
    "    for node in nodes:\n",
    "        node.v = w*node.v + c1*rand()*(node.pbest-node.x) + c2*rand()*(gbest-node.x)\n",
    "        if node.v > vmax: node.v = vmax\n",
    "        node.x = node.x + node.v\n",
    "        \n",
    "        gbest = max(gbest, node.y)\n",
    "        w = w / 1.5   # 权重衰减"
   ]
  },
  {
   "cell_type": "markdown",
   "metadata": {},
   "source": [
    "最小值为-22.37661105151893"
   ]
  },
  {
   "cell_type": "code",
   "execution_count": 98,
   "metadata": {
    "scrolled": true
   },
   "outputs": [
    {
     "data": {
      "text/plain": [
       "-22.37661105151893"
      ]
     },
     "execution_count": 98,
     "metadata": {},
     "output_type": "execute_result"
    }
   ],
   "source": [
    "-gbest"
   ]
  },
  {
   "cell_type": "code",
   "execution_count": 100,
   "metadata": {},
   "outputs": [
    {
     "data": {
      "text/plain": [
       "[Node(x=5, y=7, v=0.1, pbset=22.37661105151893),\n",
       " Node(x=5, y=7, v=0.1, pbset=22.37593866799782)]"
      ]
     },
     "execution_count": 100,
     "metadata": {},
     "output_type": "execute_result"
    }
   ],
   "source": [
    "nodes"
   ]
  },
  {
   "cell_type": "code",
   "execution_count": null,
   "metadata": {},
   "outputs": [],
   "source": []
  }
 ],
 "metadata": {
  "kernelspec": {
   "display_name": "ccf",
   "language": "python",
   "name": "ccf"
  },
  "language_info": {
   "codemirror_mode": {
    "name": "ipython",
    "version": 3
   },
   "file_extension": ".py",
   "mimetype": "text/x-python",
   "name": "python",
   "nbconvert_exporter": "python",
   "pygments_lexer": "ipython3",
   "version": "3.6.2"
  }
 },
 "nbformat": 4,
 "nbformat_minor": 2
}
